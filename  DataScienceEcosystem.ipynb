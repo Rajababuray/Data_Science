{
 "cells": [
  {
   "attachments": {},
   "cell_type": "markdown",
   "id": "1b466a12",
   "metadata": {},
   "source": [
    "# Data Science Tools and Ecosystem"
   ]
  },
  {
   "cell_type": "markdown",
   "id": "47320052",
   "metadata": {},
   "source": [
    "## In this notebook, Data Science Tools and Ecosystem are summarized."
   ]
  },
  {
   "cell_type": "markdown",
   "id": "51f646d7",
   "metadata": {},
   "source": [
    "### Some of the popular languages that Data Scientists use are:"
   ]
  },
  {
   "cell_type": "markdown",
   "id": "2ec05d2d",
   "metadata": {},
   "source": [
    "#### Python: Python is one of the most popular programming languages for data science. It has a rich ecosystem of libraries and frameworks such as NumPy, Pandas, and Scikit-learn that make it easy to handle data manipulation, analysis, and machine learning tasks. Python's simplicity and readability also contribute to its widespread adoption in the data science community.\n",
    "\n",
    "#### R: R is a language specifically designed for statistical computing and graphics. It provides a wide range of packages and functions for data manipulation, visualization, and statistical analysis. R is often favored for its extensive statistical capabilities and is commonly used in academia and research settings.\n",
    "\n",
    "#### SQL: SQL (Structured Query Language) is a language used for managing and manipulating relational databases. While not a general-purpose programming language like Python or R, SQL is essential for working with large datasets and performing database queries. It's particularly useful for data cleaning, extraction, and aggregation tasks.\n",
    "\n",
    "#### Julia: Julia is a relatively new programming language that has gained popularity in the data science community. It offers a good balance between performance and ease of use, making it suitable for computationally intensive tasks. Julia's design focuses on numerical and scientific computing, and it provides powerful libraries for mathematical operations, data analysis, and machine learning.\n",
    "\n",
    "#### Scala: Scala is a language that runs on the Java Virtual Machine (JVM) and combines object-oriented and functional programming paradigms. It has gained traction in the data science field, particularly in big data processing frameworks like Apache Spark. Scala's strong integration with Java libraries and its ability to handle large-scale data processing make it a valuable language for data scientists working with big data."
   ]
  },
  {
   "cell_type": "markdown",
   "id": "968c0b3a",
   "metadata": {},
   "source": [
    "## Some of the commonly used libraries used by Data Scientists include:"
   ]
  },
  {
   "cell_type": "markdown",
   "id": "be3492b0",
   "metadata": {},
   "source": [
    "#### NumPy: NumPy is a fundamental library for numerical computing in Python. It provides support for large, multi-dimensional arrays and matrices, along with a collection of mathematical functions to operate on these arrays efficiently. NumPy is the foundation for many other Python libraries in the data science ecosystem.\n",
    "\n",
    "#### Pandas: Pandas is a powerful library for data manipulation and analysis. It introduces data structures such as DataFrames that allow for easy handling of structured data. Pandas provides a wide range of functions for tasks like data cleaning, filtering, merging, and aggregation, making it a go-to library for data wrangling in Python.\n",
    "\n",
    "#### Matplotlib: Matplotlib is a plotting library in Python that enables the creation of static, animated, and interactive visualizations. It provides a wide range of customizable plots, including line plots, scatter plots, bar plots, histograms, and more. Matplotlib is highly versatile and widely used for data exploration and presentation.\n",
    "\n",
    "#### Scikit-learn: Scikit-learn is a popular machine learning library in Python. It offers a comprehensive set of tools and algorithms for tasks such as classification, regression, clustering, dimensionality reduction, and model evaluation. Scikit-learn is designed to be user-friendly and efficient, making it accessible to both beginners and experienced data scientists.\n",
    "\n",
    "#### TensorFlow: TensorFlow is an open-source library for machine learning and deep learning developed by Google. It provides a flexible ecosystem for building and deploying machine learning models, with support for both high-level APIs for ease of use and low-level operations for fine-grained control. TensorFlow is particularly known for its applications in neural networks and deep learning.\n",
    "\n",
    "#### PyTorch: PyTorch is another popular deep learning library that offers dynamic computational graphs and a user-friendly interface. It has gained popularity due to its intuitive design, excellent community support, and its use in cutting-edge research. PyTorch provides a flexible framework for building and training neural networks, making it a preferred choice for many researchers and practitioners.\n",
    "\n",
    "#### Keras: Keras is a high-level neural networks library that runs on top of TensorFlow or other backend engines. It provides a simplified API for building and training deep learning models, allowing users to quickly prototype and experiment with different architectures. Keras's user-friendly interface and extensive documentation make it a valuable tool for beginners and experts alike."
   ]
  },
  {
   "cell_type": "markdown",
   "id": "a9ce15bb",
   "metadata": {},
   "source": [
    "# | Data Science Tools   |\n",
    "## |---------------------|\n",
    "## | Jupyter Notebook    |\n",
    "## | RStudio             |\n",
    "## | Visual Studio Code  |"
   ]
  },
  {
   "cell_type": "markdown",
   "id": "8afc7146",
   "metadata": {},
   "source": [
    "#### Jupyter Notebook: Jupyter Notebook is an open-source web-based development environment that allows you to create and share documents containing live code, equations, visualizations, and narrative text. It supports multiple programming languages, including Python, R, and Julia, making it a versatile tool for data exploration, analysis, and visualization.\n",
    "\n",
    "#### RStudio: RStudio is an integrated development environment (IDE) specifically designed for the R programming language. It provides a user-friendly interface with powerful features for data manipulation, visualization, and statistical analysis. RStudio offers an intuitive environment for working with R, making it a popular choice among data scientists using R.\n",
    "\n",
    "#### Visual Studio Code: Visual Studio Code (VS Code) is a lightweight and extensible code editor developed by Microsoft. It supports a wide range of programming languages, including Python, R, and many others used in data science. VS Code offers a rich set of features such as debugging, Git integration, and an extensive library of extensions that enhance the development experience for data scientists."
   ]
  },
  {
   "cell_type": "markdown",
   "id": "71c2dcc9",
   "metadata": {},
   "source": [
    "#  introducing arithmetic expression examples"
   ]
  },
  {
   "cell_type": "markdown",
   "id": "67e030ef",
   "metadata": {},
   "source": [
    "### Below are a few examples of evaluating arithmetic expressions in Python."
   ]
  },
  {
   "cell_type": "code",
   "execution_count": 1,
   "id": "4c8d0200",
   "metadata": {},
   "outputs": [
    {
     "name": "stdout",
     "output_type": "stream",
     "text": [
      "12.0\n"
     ]
    }
   ],
   "source": [
    "#Basic Arithmetic: \n",
    "result = 4 + 5 * 2 - 6 / 3\n",
    "print(result)  # Output: 12.0\n"
   ]
  },
  {
   "cell_type": "code",
   "execution_count": 2,
   "id": "391b18ce",
   "metadata": {},
   "outputs": [
    {
     "name": "stdout",
     "output_type": "stream",
     "text": [
      "16.0\n"
     ]
    }
   ],
   "source": [
    "# Parentheses for Precedence:\n",
    "result = (4 + 5) * 2 - (6 / 3)\n",
    "print(result)  # Output: 16.0\n"
   ]
  },
  {
   "cell_type": "code",
   "execution_count": 3,
   "id": "dd67f883",
   "metadata": {},
   "outputs": [
    {
     "name": "stdout",
     "output_type": "stream",
     "text": [
      "8\n"
     ]
    }
   ],
   "source": [
    "# Exponentiation:\n",
    "result = 2 ** 3\n",
    "print(result)  # Output: 8\n"
   ]
  },
  {
   "cell_type": "code",
   "execution_count": 4,
   "id": "7f51113d",
   "metadata": {},
   "outputs": [
    {
     "name": "stdout",
     "output_type": "stream",
     "text": [
      "3\n"
     ]
    }
   ],
   "source": [
    "# Modulo Operator:\n",
    "result = 15 % 4\n",
    "print(result)  # Output: 3\n"
   ]
  },
  {
   "cell_type": "code",
   "execution_count": 5,
   "id": "edb9f07c",
   "metadata": {},
   "outputs": [
    {
     "name": "stdout",
     "output_type": "stream",
     "text": [
      "3.75\n"
     ]
    }
   ],
   "source": [
    "# Floating-Point Division:\n",
    "result = 15 / 4\n",
    "print(result)  # Output: 3.75\n"
   ]
  },
  {
   "cell_type": "markdown",
   "id": "cf77de6e",
   "metadata": {},
   "source": [
    "### multiply and add numbers"
   ]
  },
  {
   "cell_type": "code",
   "execution_count": 6,
   "id": "b0e8d6e2",
   "metadata": {},
   "outputs": [
    {
     "name": "stdout",
     "output_type": "stream",
     "text": [
      "17\n"
     ]
    }
   ],
   "source": [
    "# This is a simple arithmetic expression to multiply then add integers.\n",
    "result = (3 * 4) + 5\n",
    "print(result)  # Output: 17"
   ]
  },
  {
   "cell_type": "markdown",
   "id": "163a6f60",
   "metadata": {},
   "source": [
    "###  convert minutes to hours"
   ]
  },
  {
   "cell_type": "code",
   "execution_count": 7,
   "id": "266ed318",
   "metadata": {},
   "outputs": [
    {
     "name": "stdout",
     "output_type": "stream",
     "text": [
      "3.3333333333333335\n"
     ]
    }
   ],
   "source": [
    "# This will convert 200 minutes to hours by dividing by 60.\n",
    "minutes = 200\n",
    "hours = minutes / 60\n",
    "print(hours)  # Output: 3.3333333333333335"
   ]
  },
  {
   "cell_type": "markdown",
   "id": "d22456e8",
   "metadata": {},
   "source": [
    "## list Objectives"
   ]
  },
  {
   "cell_type": "markdown",
   "id": "4127cfe3",
   "metadata": {},
   "source": [
    "### Objectives:\n",
    "\n",
    "#### List popular languages for Data Science.\n",
    "#### Identify commonly used libraries in Data Science.\n",
    "#### Evaluate arithmetic expressions in Python.\n",
    "#### Convert units of measurement using Python expressions.\n",
    "#### These objectives highlight some of the key takeaways from the course, including an understanding of popular languages and libraries for data science, as well as practical skills in evaluating arithmetic expressions and performing unit conversions using Python.\n",
    "\n",
    "\n",
    "\n",
    "\n"
   ]
  },
  {
   "cell_type": "markdown",
   "id": "0f9b19ec",
   "metadata": {},
   "source": [
    "## Author\n",
    "#### Rajababu Ray"
   ]
  },
  {
   "cell_type": "code",
   "execution_count": null,
   "id": "ae65c47c",
   "metadata": {},
   "outputs": [],
   "source": []
  }
 ],
 "metadata": {
  "kernelspec": {
   "display_name": "Python 3 (ipykernel)",
   "language": "python",
   "name": "python3"
  },
  "language_info": {
   "codemirror_mode": {
    "name": "ipython",
    "version": 3
   },
   "file_extension": ".py",
   "mimetype": "text/x-python",
   "name": "python",
   "nbconvert_exporter": "python",
   "pygments_lexer": "ipython3",
   "version": "3.11.2"
  }
 },
 "nbformat": 4,
 "nbformat_minor": 5
}
